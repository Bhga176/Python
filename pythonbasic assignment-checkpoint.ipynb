{
 "cells": [
  {
   "cell_type": "raw",
   "id": "a57609f9-85f4-4fe7-ad43-c4d383129e36",
   "metadata": {},
   "source": [
    "1 What is Python, and why is it popular?\n",
    "Ans- Python is general level programming language. it is popular because of the following points-\n",
    " i) Easy to learn and use \n",
    " ii) It is scalable and versatile\n",
    " iii) Free and open source \n",
    " iv) It has rick ecosystem of libraries eg- Pandas, seaborn,etc..\n",
    "2 What is an interpreter in Python?\n",
    "Ans - Interpreter is a type of program that reads and executes codes in python line by line.\n",
    "3 What are pre-defined keywords in Python?\n",
    "Ans - The keywords that are reserved in python that have predefined meaning cannot be used as variables or function names.\n",
    "4 Can keywords be used as variable names?\n",
    "Ans - No, keyword cannot be used as variable names in python.\n",
    "5 What is mutability in Python?\n",
    "Ans - Mutability in python means that an object can be edited or modified after it has been created.\n",
    "6 Why are lists mutable, but tuples are immutable?\n",
    "Ans - Because once a data created in lists can be changed, so lists are mutable but the data in tuples cannot be changed that why they are immutable.\n",
    "7 What is the difference between “==” and “is” operators in Python?\n",
    "Ans - The \"==\" operators is used to check the equality of the given value while \"is\" operator is used to check the identity of the value. \n",
    "8 What are logical operators in Python?\n",
    "Ans - Logical operators in python modifies or combines two conditional statements.\n",
    "9 What is type casting in Python?\n",
    "Ans - Type casting in python refers to the process of converting a variables data type into another.\n",
    "10 What is the difference between implicit and explicit type casting?\n",
    "Ans - When the python automatically converts one data type without programmers intervention.This is called implicit type casting.\n",
    "When the data type is converted manually by the programmer using fuctions like int(), float(), str(). This is called explicit type casting.\n",
    "11 What is the purpose of conditional statements in Python?\n",
    "Ans - Conditionals provide a way to make decisions within a program, allowing it to respond dynamically to different situations. The primary purpose is to control the flow of execution, ensuring that certain parts of the code are executed only when necessary.\n",
    "12 How does the elif statement work?\n",
    "Ans - Elif means 'if else'. It is used in conditional statements to check for multiple conditions.For example, if one the statement is false it moves to the other statement to check whether that condition is true or false.\n",
    "13 What is the difference between for and while loops?\n",
    "Ans - \n",
    "14 Describe a scenario where a while loop is more suitable than a for loop?\n",
    "Ans - "
   ]
  },
  {
   "cell_type": "code",
   "execution_count": 6,
   "id": "e8ab9a9e-22f0-47ba-88cc-cbf3a0004b5a",
   "metadata": {},
   "outputs": [
    {
     "name": "stdout",
     "output_type": "stream",
     "text": [
      "Hello, World!\n"
     ]
    }
   ],
   "source": [
    "# PRACTICAL QUESTIONS - \n",
    "#1 Write a Python program to print \"Hello, World!\"\n",
    "print(\"Hello, World!\")\n"
   ]
  },
  {
   "cell_type": "code",
   "execution_count": 7,
   "id": "99b27612-a070-430d-939f-75a62cd97c09",
   "metadata": {},
   "outputs": [
    {
     "name": "stdout",
     "output_type": "stream",
     "text": [
      " Name = Bhagyansh Sharma and Age = 21 years\n"
     ]
    }
   ],
   "source": [
    "#2 Write a Python program that displays your name and age\n",
    "print(\" Name = Bhagyansh Sharma and Age = 21 years\")"
   ]
  },
  {
   "cell_type": "code",
   "execution_count": 2,
   "id": "fe73925c-b257-4b37-9517-feeb3f75ed4c",
   "metadata": {},
   "outputs": [
    {
     "name": "stdout",
     "output_type": "stream",
     "text": [
      "\n",
      "Here is a list of the Python keywords.  Enter any keyword to get more help.\n",
      "\n",
      "False               class               from                or\n",
      "None                continue            global              pass\n",
      "True                def                 if                  raise\n",
      "and                 del                 import              return\n",
      "as                  elif                in                  try\n",
      "assert              else                is                  while\n",
      "async               except              lambda              with\n",
      "await               finally             nonlocal            yield\n",
      "break               for                 not                 \n",
      "\n"
     ]
    }
   ],
   "source": [
    "#3 Write code to print all the pre-defined keywords in Python using the keyword library.\n",
    "help(\"keywords\")"
   ]
  },
  {
   "cell_type": "code",
   "execution_count": 17,
   "id": "e90dcd66-9952-46a4-b064-a20d80d991aa",
   "metadata": {},
   "outputs": [
    {
     "ename": "SyntaxError",
     "evalue": "invalid syntax (3071943220.py, line 4)",
     "output_type": "error",
     "traceback": [
      "\u001b[1;36m  Cell \u001b[1;32mIn[17], line 4\u001b[1;36m\u001b[0m\n\u001b[1;33m    def is_keyword(\"finally\"):\u001b[0m\n\u001b[1;37m                   ^\u001b[0m\n\u001b[1;31mSyntaxError\u001b[0m\u001b[1;31m:\u001b[0m invalid syntax\n"
     ]
    }
   ],
   "source": [
    "#4 Write a program that checks if a given word is a Python keyword.\n",
    "import keyword\n",
    "\n",
    "def is_keyword(\"finally\"):\n",
    "    \"\"\"\n",
    "    Checks if a given word is a Python keyword.\n",
    "\n",
    "    Args:\n",
    "        finally: The word to check.\n",
    "\n",
    "    Returns:\n",
    "        True if the word is a keyword, False otherwise.\n",
    "    \"\"\"\n",
    "    return keyword.iskeyword(\"finally\")\n"
   ]
  },
  {
   "cell_type": "code",
   "execution_count": 11,
   "id": "bd75ca24-95b6-4fe8-812f-2fad39c1ef05",
   "metadata": {},
   "outputs": [
    {
     "ename": "NameError",
     "evalue": "name 'my_list' is not defined",
     "output_type": "error",
     "traceback": [
      "\u001b[1;31m---------------------------------------------------------------------------\u001b[0m",
      "\u001b[1;31mNameError\u001b[0m                                 Traceback (most recent call last)",
      "Cell \u001b[1;32mIn[11], line 2\u001b[0m\n\u001b[0;32m      1\u001b[0m \u001b[38;5;66;03m#5 Create a list and tuple in Python, and demonstrate how attempting to change an element works differently for each.\u001b[39;00m\n\u001b[1;32m----> 2\u001b[0m my_list(\u001b[38;5;241m1\u001b[39m,\u001b[38;5;241m2\u001b[39m,\u001b[38;5;241m3\u001b[39m)\n\u001b[0;32m      3\u001b[0m \u001b[38;5;28mprint\u001b[39m(\u001b[38;5;124m\"\u001b[39m\u001b[38;5;124moriginal list:\u001b[39m\u001b[38;5;124m\"\u001b[39m, my_list)\n",
      "\u001b[1;31mNameError\u001b[0m: name 'my_list' is not defined"
     ]
    }
   ],
   "source": [
    "#5 Create a list and tuple in Python, and demonstrate how attempting to change an element works differently for each.\n",
    "my_list(1,2,3)\n",
    "print(\"original list:\", my_list)"
   ]
  },
  {
   "cell_type": "code",
   "execution_count": 4,
   "id": "e32980b8-b63c-446f-8680-e79c3649ac8a",
   "metadata": {},
   "outputs": [],
   "source": [
    "#6 Write a function to demonstrate the behavior of mutable and immutable arguments."
   ]
  },
  {
   "cell_type": "code",
   "execution_count": 5,
   "id": "f525fbb2-6453-4568-bc8e-dc20e3e92b2e",
   "metadata": {},
   "outputs": [],
   "source": [
    "#7 Write a program that performs basic arithmetic operations on two user-input numbers."
   ]
  },
  {
   "cell_type": "code",
   "execution_count": 9,
   "id": "a14acea0-3522-4ec0-84b2-9046b07946db",
   "metadata": {},
   "outputs": [
    {
     "data": {
      "text/plain": [
       "False"
      ]
     },
     "execution_count": 9,
     "metadata": {},
     "output_type": "execute_result"
    }
   ],
   "source": [
    "#8 Write a program to demonstrate the use of logical operators.\n",
    "True and False  "
   ]
  },
  {
   "cell_type": "code",
   "execution_count": null,
   "id": "656a88d0-f4e2-4586-a23c-c86a85748acc",
   "metadata": {},
   "outputs": [],
   "source": [
    "#9 Write a Python program to convert user input from string to integer, float, and boolean types"
   ]
  },
  {
   "cell_type": "code",
   "execution_count": 23,
   "id": "e65fc583-0534-4a36-8bad-05d1dfabaaec",
   "metadata": {},
   "outputs": [
    {
     "ename": "SyntaxError",
     "evalue": "invalid syntax (3139200056.py, line 8)",
     "output_type": "error",
     "traceback": [
      "\u001b[1;36m  Cell \u001b[1;32mIn[23], line 8\u001b[1;36m\u001b[0m\n\u001b[1;33m    else:\u001b[0m\n\u001b[1;37m    ^\u001b[0m\n\u001b[1;31mSyntaxError\u001b[0m\u001b[1;31m:\u001b[0m invalid syntax\n"
     ]
    }
   ],
   "source": [
    "#10 Write code to demonstrate type casting with list elements.\n",
    "num = input(\" Enter a number: \")\n",
    "if num >=0:\n",
    "    if num == 0:\n",
    "        print(\"Zero\")\n",
    "    else:\n",
    "        print(\"Positive Number\")\n",
    "    else:\n",
    "    print(\"Negative Number\")"
   ]
  },
  {
   "cell_type": "code",
   "execution_count": null,
   "id": "82e6cfb3-46cd-473d-a754-be0e098fc6a8",
   "metadata": {},
   "outputs": [],
   "source": [
    "#11 Write a program that checks if a number is positive, negative, or zero."
   ]
  },
  {
   "cell_type": "code",
   "execution_count": 19,
   "id": "5443cf45-53e9-4c0c-9173-ea47f4c198a2",
   "metadata": {},
   "outputs": [
    {
     "name": "stdout",
     "output_type": "stream",
     "text": [
      "1\n",
      "2\n",
      "3\n",
      "4\n",
      "5\n",
      "6\n",
      "7\n",
      "8\n",
      "9\n",
      "10\n"
     ]
    }
   ],
   "source": [
    "#12 Write a for loop to print numbers from 1 to 10.\n",
    "n = 11\n",
    "i = 1\n",
    "while i<n:\n",
    "    print(i)\n",
    "    i=i+1"
   ]
  },
  {
   "cell_type": "code",
   "execution_count": null,
   "id": "315c836d-0f95-4226-9e88-421e43f22f0c",
   "metadata": {},
   "outputs": [],
   "source": [
    "#13 Write a Python program to find the sum of all even numbers between 1 and 50."
   ]
  },
  {
   "cell_type": "code",
   "execution_count": null,
   "id": "75dd2982-971a-4edf-a577-8c5869ce5a5d",
   "metadata": {},
   "outputs": [],
   "source": [
    "#14 Write a program to reverse a string using a while loop."
   ]
  },
  {
   "cell_type": "code",
   "execution_count": null,
   "id": "3712ffcc-3371-4503-bcc6-9efead601f2e",
   "metadata": {},
   "outputs": [],
   "source": [
    "#15 Write a Python program to calculate the factorial of a number provided by the user using a while loop"
   ]
  },
  {
   "cell_type": "code",
   "execution_count": null,
   "id": "adde4717-6180-4660-905a-88dfa795f779",
   "metadata": {},
   "outputs": [],
   "source": []
  },
  {
   "cell_type": "code",
   "execution_count": null,
   "id": "4bef8ea4-e13a-4e3f-9892-50bedc0cebf1",
   "metadata": {},
   "outputs": [],
   "source": []
  },
  {
   "cell_type": "code",
   "execution_count": null,
   "id": "0f848319-d518-4cd4-b94f-480d0aa2a746",
   "metadata": {},
   "outputs": [],
   "source": []
  },
  {
   "cell_type": "code",
   "execution_count": null,
   "id": "8c51feb9-1e2b-400d-a06b-70bcdc6d8489",
   "metadata": {},
   "outputs": [],
   "source": []
  },
  {
   "cell_type": "code",
   "execution_count": null,
   "id": "41058869-1529-4374-9a04-ee605a0223be",
   "metadata": {},
   "outputs": [],
   "source": []
  },
  {
   "cell_type": "code",
   "execution_count": null,
   "id": "c38fe882-be79-4c2b-a382-583f011cf3fc",
   "metadata": {},
   "outputs": [],
   "source": []
  },
  {
   "cell_type": "code",
   "execution_count": null,
   "id": "2657a0f7-e8c6-4109-8c18-90cac5692203",
   "metadata": {},
   "outputs": [],
   "source": []
  },
  {
   "cell_type": "code",
   "execution_count": null,
   "id": "3a62d079-c93a-4210-8733-5cb2996fe3a9",
   "metadata": {},
   "outputs": [],
   "source": []
  },
  {
   "cell_type": "code",
   "execution_count": null,
   "id": "15c87003-d129-4825-9042-49bf98d33158",
   "metadata": {},
   "outputs": [],
   "source": []
  },
  {
   "cell_type": "code",
   "execution_count": null,
   "id": "49641fea-023a-404f-97bb-4fd7b23c658b",
   "metadata": {},
   "outputs": [],
   "source": []
  },
  {
   "cell_type": "code",
   "execution_count": null,
   "id": "7b2a9bc1-3656-47aa-8000-8c1a92fe4302",
   "metadata": {},
   "outputs": [],
   "source": []
  },
  {
   "cell_type": "code",
   "execution_count": null,
   "id": "0d23f38f-e313-47ec-93a7-3e938d026277",
   "metadata": {},
   "outputs": [],
   "source": []
  },
  {
   "cell_type": "code",
   "execution_count": null,
   "id": "c853547f-74b1-460a-adf7-2baeba3eb85a",
   "metadata": {},
   "outputs": [],
   "source": []
  },
  {
   "cell_type": "code",
   "execution_count": null,
   "id": "d0c526e3-c889-4ad1-a023-7593088854ec",
   "metadata": {},
   "outputs": [],
   "source": []
  },
  {
   "cell_type": "code",
   "execution_count": null,
   "id": "fa482629-0e90-4027-9dae-0e34600d776d",
   "metadata": {},
   "outputs": [],
   "source": []
  },
  {
   "cell_type": "code",
   "execution_count": null,
   "id": "ac9fa313-6f72-4291-a6ec-6e8abd512fb4",
   "metadata": {},
   "outputs": [],
   "source": []
  },
  {
   "cell_type": "code",
   "execution_count": null,
   "id": "df898ed2-5292-40d4-81b9-dc3f0845d39f",
   "metadata": {},
   "outputs": [],
   "source": []
  },
  {
   "cell_type": "code",
   "execution_count": null,
   "id": "9699fcae-4073-4a40-955f-c1118ab83f5a",
   "metadata": {},
   "outputs": [],
   "source": []
  },
  {
   "cell_type": "code",
   "execution_count": null,
   "id": "a323784d-e142-43ec-acb4-1a5b1e594bf0",
   "metadata": {},
   "outputs": [],
   "source": []
  },
  {
   "cell_type": "code",
   "execution_count": null,
   "id": "d9a9ad98-a926-4053-b0fb-5c44634ea150",
   "metadata": {},
   "outputs": [],
   "source": []
  },
  {
   "cell_type": "code",
   "execution_count": null,
   "id": "3417242d-977d-4f73-b821-bf2620fa9945",
   "metadata": {},
   "outputs": [],
   "source": []
  },
  {
   "cell_type": "code",
   "execution_count": null,
   "id": "0d28b007-bdc1-4f05-912a-33f2402891b1",
   "metadata": {},
   "outputs": [],
   "source": []
  },
  {
   "cell_type": "code",
   "execution_count": null,
   "id": "46355173-25d1-4c94-a5c1-1483c67cc6c0",
   "metadata": {},
   "outputs": [],
   "source": []
  },
  {
   "cell_type": "code",
   "execution_count": null,
   "id": "e419349d-d354-4def-9d59-bca54bd8714a",
   "metadata": {},
   "outputs": [],
   "source": []
  },
  {
   "cell_type": "code",
   "execution_count": null,
   "id": "4af9846e-3f94-4a8e-9417-ed6289c974b4",
   "metadata": {},
   "outputs": [],
   "source": []
  },
  {
   "cell_type": "code",
   "execution_count": null,
   "id": "f440b3b3-2770-4c00-b83c-c67be4fdaa58",
   "metadata": {},
   "outputs": [],
   "source": []
  },
  {
   "cell_type": "code",
   "execution_count": null,
   "id": "62a69a6d-6fd7-4212-aa9d-7a2c9c66961a",
   "metadata": {},
   "outputs": [],
   "source": []
  },
  {
   "cell_type": "code",
   "execution_count": null,
   "id": "1d6ffe81-6c7f-42fa-a860-b12700d6e760",
   "metadata": {},
   "outputs": [],
   "source": []
  }
 ],
 "metadata": {
  "kernelspec": {
   "display_name": "Python 3 (ipykernel)",
   "language": "python",
   "name": "python3"
  },
  "language_info": {
   "codemirror_mode": {
    "name": "ipython",
    "version": 3
   },
   "file_extension": ".py",
   "mimetype": "text/x-python",
   "name": "python",
   "nbconvert_exporter": "python",
   "pygments_lexer": "ipython3",
   "version": "3.12.7"
  }
 },
 "nbformat": 4,
 "nbformat_minor": 5
}
